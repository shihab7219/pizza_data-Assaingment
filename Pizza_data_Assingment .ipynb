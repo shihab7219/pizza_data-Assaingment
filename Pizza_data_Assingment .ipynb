{
 "cells": [
  {
   "cell_type": "code",
   "execution_count": 1,
   "id": "75a09000",
   "metadata": {},
   "outputs": [],
   "source": [
    "import pandas as pd\n",
    "import numpy as np"
   ]
  },
  {
   "cell_type": "code",
   "execution_count": 2,
   "id": "17d9d294",
   "metadata": {},
   "outputs": [],
   "source": [
    "pizza_data = pd.read_csv(\"Pizza Data.csv\")"
   ]
  },
  {
   "cell_type": "code",
   "execution_count": 3,
   "id": "64ea2cc1",
   "metadata": {},
   "outputs": [
    {
     "data": {
      "text/plain": [
       "<bound method DataFrame.info of             Company           Pizza Name              Type           Size  \\\n",
       "0    Domino's Pizza          Hand Tossed     Cheeses Pizza    Small (10\")   \n",
       "1    Domino's Pizza          Hand Tossed     Cheeses Pizza   Medium (12\")   \n",
       "2    Domino's Pizza          Hand Tossed     Cheeses Pizza    Large (14\")   \n",
       "3    Domino's Pizza         Handmade Pan     Cheeses Pizza   Medium (12\")   \n",
       "4    Domino's Pizza   Crunchy Thin Crust     Cheeses Pizza    Small (10\")   \n",
       "..              ...                  ...               ...            ...   \n",
       "366     IMO's Pizza    BBQ Chicken Pizza  Specialty Pizzas  X Large (16\")   \n",
       "367     IMO's Pizza  Egg-Ceptional Pizza  Specialty Pizzas    Small (10\")   \n",
       "368     IMO's Pizza  Egg-Ceptional Pizza  Specialty Pizzas   Medium (12\")   \n",
       "369     IMO's Pizza  Egg-Ceptional Pizza  Specialty Pizzas    Large (14\")   \n",
       "370     IMO's Pizza  Egg-Ceptional Pizza  Specialty Pizzas  X Large (16\")   \n",
       "\n",
       "       Price  \n",
       "0     $5.99   \n",
       "1     $7.99   \n",
       "2     $9.99   \n",
       "3     $7.99   \n",
       "4     $5.99   \n",
       "..       ...  \n",
       "366  $23.85   \n",
       "367  $11.80   \n",
       "368  $14.95   \n",
       "369  $18.65   \n",
       "370  $22.30   \n",
       "\n",
       "[371 rows x 5 columns]>"
      ]
     },
     "execution_count": 3,
     "metadata": {},
     "output_type": "execute_result"
    }
   ],
   "source": [
    "#pizza_data.head(50)\n",
    "pizza_data.info"
   ]
  },
  {
   "cell_type": "code",
   "execution_count": 4,
   "id": "4a500628",
   "metadata": {
    "scrolled": true
   },
   "outputs": [
    {
     "data": {
      "text/plain": [
       "Company       0\n",
       "Pizza Name    0\n",
       "Type          0\n",
       "Size          0\n",
       "Price         0\n",
       "dtype: int64"
      ]
     },
     "execution_count": 4,
     "metadata": {},
     "output_type": "execute_result"
    }
   ],
   "source": [
    "pizza_data.isnull().sum()"
   ]
  },
  {
   "cell_type": "code",
   "execution_count": 5,
   "id": "a96627f3",
   "metadata": {},
   "outputs": [
    {
     "data": {
      "text/plain": [
       "array([\"Domino's Pizza\", 'Pizza Hut', \"Godfather's Pizza\", \"IMO's Pizza\"],\n",
       "      dtype=object)"
      ]
     },
     "execution_count": 5,
     "metadata": {},
     "output_type": "execute_result"
    }
   ],
   "source": [
    "pizza_data[\"Company\"].unique() #One Hot Encoding"
   ]
  },
  {
   "cell_type": "code",
   "execution_count": 6,
   "id": "52622969",
   "metadata": {},
   "outputs": [
    {
     "data": {
      "text/plain": [
       "array(['Hand Tossed', 'Handmade Pan', 'Crunchy Thin Crust',\n",
       "       'Brooklyn Style', 'Gluten Free Crust',\n",
       "       'Spinach & Feta (Hand Tossed or Thin Crust)',\n",
       "       'Spinach & Feta (Hand Tossed, Handmade Pan or Thin Crust)',\n",
       "       'Spinach & Feta (Hand Tossed, Thin Crust or Brooklyn Style)',\n",
       "       'Spinach & Feta (Brooklyn Style)',\n",
       "       'Spinach & Feta (Gluten Free Crust)',\n",
       "       'Wisconsin 6 Cheese (Hand Tossed or Thin Crust)',\n",
       "       'Wisconsin 6 Cheese (Hand Tossed, Handmade Pan or Thin Crust)',\n",
       "       'Wisconsin 6 Cheese (Hand Tossed, Thin Crust or Brooklyn Style)',\n",
       "       'Wisconsin 6 Cheese (Brooklyn Style)',\n",
       "       'Wisconsin 6 Cheese (Gluten Free Crust)',\n",
       "       'Honolulu Hawaiian (Hand Tossed or Thin Crust)',\n",
       "       'Honolulu Hawaiian (Hand Tossed, Handmade Pan or Thin Crust)',\n",
       "       'Honolulu Hawaiian (Hand Tossed, Thin Crust or Brooklyn Style)',\n",
       "       'Honolulu Hawaiian (Brooklyn Style)',\n",
       "       'Honolulu Hawaiian (Gluten Free Crust)',\n",
       "       'Philly Cheese Steak (Hand Tossed or Thin Crust)',\n",
       "       'Philly Cheese Steak (Hand Tossed, Handmade Pan or Thin Crust)',\n",
       "       'Philly Cheese Steak (Hand Tossed, Thin Crust or Brooklyn Style)',\n",
       "       'Philly Cheese Steak (Brooklyn Style)',\n",
       "       'Philly Cheese Steak (Gluten Free Crust)',\n",
       "       'Pacific Veggie (Hand Tossed or Thin Crust)',\n",
       "       'Pacific Veggie (Hand Tossed, Handmade Pan or Thin Crust)',\n",
       "       'Pacific Veggie (Hand Tossed, Thin Crust or Brooklyn Style)',\n",
       "       'Pacific Veggie (Brooklyn Style)',\n",
       "       'Pacific Veggie (Gluten Free Crust)',\n",
       "       'Cali Chicken Bacon Ranch™ (Hand Tossed or Thin Crust)',\n",
       "       'Cali Chicken Bacon Ranch™ (Hand Tossed, Handmade Pan or Thin Crust)',\n",
       "       'Cali Chicken Bacon Ranch™ (Hand Tossed, Thin Crust or Brooklyn Style)',\n",
       "       'Cali Chicken Bacon Ranch™ (Brooklyn Style)',\n",
       "       'Cali Chicken Bacon Ranch™ (Gluten Free Crust)',\n",
       "       'Fiery Hawaiian™ (Hand Tossed or Thin Crust)',\n",
       "       'Fiery Hawaiian™ (Hand Tossed, Handmade Pan or Thin Crust)',\n",
       "       'Fiery Hawaiian™ (Hand Tossed, Thin Crust or Brooklyn Style)',\n",
       "       'Fiery Hawaiian™ (Brooklyn Style)',\n",
       "       'Fiery Hawaiian™ (Gluten Free Crust)',\n",
       "       'Buffalo Chicken (Hand Tossed or Thin Crust)',\n",
       "       'Buffalo Chicken (Hand Tossed, Handmade Pan or Thin Crust)',\n",
       "       'Buffalo Chicken (Hand Tossed, Thin Crust or Brooklyn Style)',\n",
       "       'Buffalo Chicken (Brooklyn Style)',\n",
       "       'Buffalo Chicken (Gluten Free Crust)',\n",
       "       'Memphis BBQ Chicken (Hand Tossed or Thin Crust)',\n",
       "       'Memphis BBQ Chicken (Hand Tossed, Hnadmade Pan or Thin Crust)',\n",
       "       'Memphis BBQ Chicken (Hand Tossed, Thin Crust or Brooklyn Style)',\n",
       "       'Memphis BBQ Chicken (Brooklyn Style)',\n",
       "       'Memphis BBQ Chicken (Gluten Free Crust)',\n",
       "       \"America's Favorite Feast® (Hand Tossed or Thin Crust)\",\n",
       "       \"America's Favorite Feast® (Handmade Pan)\",\n",
       "       \"America's Favorite Feast® (Hand Tossed, Thin Crust or Brooklyn Style)\",\n",
       "       \"America's Favorite Feast® (Brooklyn Style)\",\n",
       "       \"America's Favorite Feast® (Gluten Free Crust)\",\n",
       "       'Bacon Cheeseburger Feast® (Hand Tossed or Thin Crust)',\n",
       "       'Bacon Cheeseburger Feast® (Handmade Pan)',\n",
       "       'Bacon Cheeseburger Feast® (Hand Tossed, Thin Crust or Brooklyn Style)',\n",
       "       'Bacon Cheeseburger Feast® (Brooklyn Style)',\n",
       "       'Bacon Cheeseburger Feast® (Gluten Free Crust)',\n",
       "       'Deluxe Feast® (Hand Tossed or Thin Crust)',\n",
       "       'Deluxe Feast® (Handmade Pan)',\n",
       "       'Deluxe Feast® (Hand Tossed, Thin Crust or Brooklyn Style)',\n",
       "       'Deluxe Feast® (Brooklyn Style)',\n",
       "       'Deluxe Feast® (Gluten Free Crust)',\n",
       "       'ExtravaganZZa Feast® (Hand Tossed or Thin Crust)',\n",
       "       'ExtravaganZZa Feast® (Hand Tossed, Handmade Pan or Thin Crust)',\n",
       "       'ExtravaganZZa Feast® (Hand Tossed, Thin Crust or Brooklyn Style)',\n",
       "       'ExtravaganZZa Feast® (Brooklyn Style)',\n",
       "       'ExtravaganZZa Feast® (Gluten Free Crust)',\n",
       "       'MeatZZa Feast® (Hand Tossed or Thin Crust)',\n",
       "       'MeatZZa Feast® (Hand Tossed, Handmade Pan or Thin Crust)',\n",
       "       'MeatZZa Feast® (Hand Tossed, Thin Crust or Brooklyn Style)',\n",
       "       'MeatZZa Feast® (Brooklyn Style)',\n",
       "       'MeatZZa Feast® (Gluten Free Crust)',\n",
       "       'Ultimate Pepperoni Feast™ (Hand Tossed or Thin Crust)',\n",
       "       'Ultimate Pepperoni Feast™ (Hand Tossed, Handmade Pan or Thin Crust)',\n",
       "       'Ultimate Pepperoni Feast™ (Hand Tossed, Thin Crust or Brooklyn Style)',\n",
       "       'Ultimate Pepperoni Feast™ (Brooklyn Style)',\n",
       "       'Ultimate Pepperoni Feast™ (Gluten Free Crust)', 'Hand-Tossed',\n",
       "       'Pan Pizza', 'Thin N Crispy', 'Stuffed Crust', 'Skinny Slice',\n",
       "       \"Pepperoni Lover's® Pizza (Hand-Tossed)\",\n",
       "       \"Pepperoni Lover's® Pizza (Pan Pizza)\",\n",
       "       \"Pepperoni Lover's® Pizza (Thin N Crispy)\",\n",
       "       \"Pepperoni Lover's® Pizza (Stuffed Crust)\",\n",
       "       \"Pepperoni Lover's® Pizza (Skinny Slice)\",\n",
       "       \"Meat Lover's® Pizza (Hand-Tossed)\",\n",
       "       \"Meat Lover's® Pizza (Pan Pizza)\",\n",
       "       \"Meat Lover's® Pizza (Thin N Crispy)\",\n",
       "       \"Meat Lover's® Pizza (Stuffed Crust)\",\n",
       "       \"Meat Lover's® Pizza (Skinny Slice)\",\n",
       "       \"Ultimate Cheese Lover's Pizza (Hand-Tossed)\",\n",
       "       \"Ultimate Cheese Lover's Pizza (Pan Pizza)\",\n",
       "       \"Ultimate Cheese Lover's Pizza (Thin N Crispy)\",\n",
       "       \"Ultimate Cheese Lover's Pizza (Stuffed Crust)\",\n",
       "       \"Ultimate Cheese Lover's Pizza (Skinny Slice)\",\n",
       "       \"Veggie Lover's® Pizza (Hand-Tossed)\",\n",
       "       \"Veggie Lover's® Pizza (Pan Pizza)\",\n",
       "       \"Veggie Lover's® Pizza (Thin N Crispy)\",\n",
       "       \"Veggie Lover's® Pizza (Stuffed Crust)\",\n",
       "       \"Veggie Lover's® Pizza (Skinny Slice)\",\n",
       "       'Supreme Pizza (Hand-Tossed)', 'Supreme Pizza (Pan Pizza)',\n",
       "       'Supreme Pizza (Thin N Crispy)', 'Supreme Pizza (Stuffed Crust)',\n",
       "       'Supreme Pizza (Skinny Slice)', \"BBQ Lover's™ (Hand-Tossed)\",\n",
       "       \"BBQ Lover's™ (Pan Pizza)\", \"BBQ Lover's™ (Thin N Crispy)\",\n",
       "       \"BBQ Lover's™ (Stuffed Crust)\", \"BBQ Lover's™ (Skinny Slice)\",\n",
       "       'Chicken Supreme Pizza (Hand-Tossed)',\n",
       "       'Chicken Supreme Pizza (Pan Pizza)',\n",
       "       'Chicken Supreme Pizza (Thin N Crispy)',\n",
       "       'Chicken Supreme Pizza (Stuffed Crust)',\n",
       "       'Chicken Supreme Pizza (Skinny Slice)',\n",
       "       'New Primo Meat Pizza (Hand-Tossed)',\n",
       "       'New Primo Meat Pizza (Pan Pizza)',\n",
       "       'New Primo Meat Pizza (Thin N Crispy)',\n",
       "       'New Primo Meat Pizza (Stuffed Crust)',\n",
       "       'New Primo Meat Pizza (Skinny Slice)',\n",
       "       'Hawaiian Luau (Hand-Tossed)', 'Hawaiian Luau (Pan Pizza)',\n",
       "       'Hawaiian Luau (Thin N Crispy)', 'Hawaiian Luau (Stuffed Crust)',\n",
       "       'Hawaiian Luau (Skinny Slice)',\n",
       "       'Super Supreme Pizza (Hand-Tossed)',\n",
       "       'Super Supreme Pizza (Pan Pizza)',\n",
       "       'Super Supreme Pizza (Thin N Crispy)',\n",
       "       'Super Supreme Pizza (Stuffed Crust)',\n",
       "       'Super Supreme Pizza (Skinny Slice)',\n",
       "       'Garden Party™ (Thin N Crispy)',\n",
       "       'Old Fashioned Meatbrawl™ (Pan Pizza)',\n",
       "       'Cock-a-doodle Bacon™ (Hand-Tossed)',\n",
       "       'Hot and Twisted™ (Hand-Tossed)', 'Pretzel Piggy™ (Hand-Tossed)',\n",
       "       'BBQ Bacon Cheeseburger (Hand-Tossed)',\n",
       "       'Giddy-Up BBQ Chicken™ (Hand-Tossed)',\n",
       "       'Buffalo State of Mind™ (Hand-Tossed)',\n",
       "       'Cherry Pepper Bombshell™ (Thin N Crispy)',\n",
       "       '7-Alarm Fire™ (Hand-Tossed)', 'Skinny Beach™ (Skinny Slice)',\n",
       "       'Skinny With A Kick™ (Skinny Slice)',\n",
       "       'Skinny Italy (Skinny Slice)', 'Skinny Luau™ (Skinny Slice)',\n",
       "       'Skinny Club™ (Skinny Slice)',\n",
       "       'Create Your Own (Gluten-Free Crust)', 'Cheese (Original Crust)',\n",
       "       'Cheese (Original or Golden Crust)',\n",
       "       'Cheese (Original, Golden or Thin Crust)',\n",
       "       'Cheese (Mozza-Loaded Crust)', 'Cheese (Original or Thin Crust)',\n",
       "       'All-Meat Combo Pizza (Original Crust)',\n",
       "       'All-Meat Combo Pizza (Original or Golden Crust)',\n",
       "       'All-Meat Combo Pizza (Original, Golden or Thin Crust)',\n",
       "       'All-Meat Combo Pizza (Mozza-Loaded Crust)',\n",
       "       'Bacon Cheeseburger Pizza (Original Crust)',\n",
       "       'Bacon Cheeseburger Pizza (Original or Golden Crust)',\n",
       "       'Bacon Cheeseburger Pizza (Original, Golden or Thin Crust)',\n",
       "       'Bacon Cheeseburger Pizza (Mozza-Loaded Crust)',\n",
       "       'Bacon Cheeseburger Pizza (Original or Thin Crust)',\n",
       "       'Taco Pie Pizza (Original Crust)',\n",
       "       'Taco Pie Pizza (Original or Golden Crust)',\n",
       "       'Taco Pie Pizza (Original, Golden or Thin Crust)',\n",
       "       'Taco Pie Pizza (Mozza-Loaded Crust)',\n",
       "       'Taco Pie Pizza (Original or Thin Crust)',\n",
       "       'Classic Combo Pizza (Original Crust)',\n",
       "       'Classic Combo Pizza (Original or Golden Crust)',\n",
       "       'Classic Combo Pizza (Original, Golden or Thin Crust)',\n",
       "       'Classic Combo Pizza (Mozza-Loaded Crust)',\n",
       "       'Classic Combo Pizza (Original or Thin Crust)',\n",
       "       'Humble Pie Pizza (Original Crust)',\n",
       "       'Humble Pie Pizza (Original or Golden Crust)',\n",
       "       'Humble Pie Pizza (Original, Golden or Thin Crust)',\n",
       "       'Humble Pie Pizza (Mozza-Loaded Crust)',\n",
       "       'Humble Pie Pizza (Original or Thin Crust)',\n",
       "       'Veggie Pie Pizza (Original Crust)',\n",
       "       'Veggie Pie Pizza (Original or Golden Crust)',\n",
       "       'Veggie Pie Pizza (Original, Golden or Thin Crust)',\n",
       "       'Veggie Pie Pizza (Mozza-Loaded Crust)',\n",
       "       'Veggie Pie Pizza (Original or Thin Crust)',\n",
       "       'Hot Stuff Pizza (Original Crust)',\n",
       "       'Hot Stuff Pizza (Original or Golden Crust)',\n",
       "       'Hot Stuff Pizza (Original, Golden or Thin Crust)',\n",
       "       'Hot Stuff Pizza (Mozza-Loaded Crust)',\n",
       "       'Hot Stuff Pizza (Original or Thin Crust)',\n",
       "       'Hawaiian Pizza (Original Crust)',\n",
       "       'Hawaiian Pizza (Original or Golden Crust)',\n",
       "       'Hawaiian Pizza (Original, Golden or Thin Crust)',\n",
       "       'Hawaiian Pizza (Mozza-Loaded Crust)',\n",
       "       'Hawaiian Pizza (Original or Thin Crust)',\n",
       "       'BLT Pizza (Original Crust)',\n",
       "       'BLT Pizza (Original or Golden Crust)',\n",
       "       'BLT Pizza (Original, Golden or Thin Crust)',\n",
       "       'BLT Pizza (Mozza-Loaded Crust)',\n",
       "       'BLT Pizza (Original or Thin Crust)',\n",
       "       'Buffalo Chicken Pizza (Original Crust)',\n",
       "       'Buffalo Chicken Pizza (Original or Golden Crust)',\n",
       "       'Buffalo Chicken Pizza (Original, Golden or Thin Crust)',\n",
       "       'Buffalo Chicken Pizza (Mozza-Loaded Crust)',\n",
       "       'Buffalo Chicken Pizza (Original or Thin Crust)',\n",
       "       'Super Combo Pizza (Original or Golden Crust)',\n",
       "       'Super Combo Pizza (Original, Golden or Thin Crust)',\n",
       "       'Super Combo Pizza (Mozza-Loaded Crust)',\n",
       "       'Super Combo Pizza (Original or Thin Crust)',\n",
       "       'Super Hawaiian Pizza (Original or Golden Crust)',\n",
       "       'Super Hawaiian Pizza (Original, Golden or Thin Crust)',\n",
       "       'Super Hawaiian Pizza (Mozza-Loaded Crust)',\n",
       "       'Super Hawaiian Pizza (Original or Thin Crust)',\n",
       "       'Super Taco Pizza (Original or Golden Crust)',\n",
       "       'Super Taco Pizza (Original, Golden or Thin Crust)',\n",
       "       'Super Taco Pizza (Mozza-Loaded Crust)',\n",
       "       'Super Taco Pizza (Original or Thin Crust)',\n",
       "       'The Don (Original or Golden Crust)',\n",
       "       'The Don (Original, Golden or Thin Crust)',\n",
       "       'The Don (Mozza-Loaded Crust)', 'The Don (Original or Thin Crust)',\n",
       "       'Super Veggie Pizza (Original or Golden Crust)',\n",
       "       'Super Veggie Pizza (Original, Golden or Thin Crust)',\n",
       "       'Super Veggie Pizza (Mozza-Loaded Crust)',\n",
       "       'Super Veggie Pizza (Original or Thin Crust)',\n",
       "       'BBQ Bacon Cheeseburger Pizza (Original Crust)',\n",
       "       'BBQ Bacon Cheeseburger Pizza (Original, Golden or Thin Crust)',\n",
       "       'BBQ Bacon Cheeseburger Pizza (Mozza-Loaded Crust)',\n",
       "       'Chipotle Chicken and Bacon Pizza (Original Crust)',\n",
       "       'Chipotle Chicken and Bacon Pizza (Original, Golden or Thin Crust)',\n",
       "       'Chipotle Chicken and Bacon Pizza (Mozza-Loaded Crust)',\n",
       "       'Margherita Pizza (Original, Golden or Thin Crust)',\n",
       "       'Margherita Pizza (Thin Crust)',\n",
       "       'Margherita Chicken Pizza (Original, Golden or Thin Crust)',\n",
       "       'Margherita Chicken Pizza (Thin Crust)', 'Thin Crust',\n",
       "       'Original Crust', 'Original or Golden Crust',\n",
       "       'Original, Golden or Thin Crust', 'Mozza-Loaded Crust',\n",
       "       'Original or Thin Crust', 'Deluxe Pizza', 'Veggie Pizza',\n",
       "       'Cheese Pizza', 'All Meat Pizza', 'BBQ Chicken Pizza',\n",
       "       'Egg-Ceptional Pizza'], dtype=object)"
      ]
     },
     "execution_count": 6,
     "metadata": {},
     "output_type": "execute_result"
    }
   ],
   "source": [
    "pizza_data[\"Pizza Name\"].unique() #Label Encoding"
   ]
  },
  {
   "cell_type": "code",
   "execution_count": 7,
   "id": "494c9443",
   "metadata": {},
   "outputs": [
    {
     "data": {
      "text/plain": [
       "array(['Cheeses Pizza', 'Specialty Pizzas', 'Feast Pizzas',\n",
       "       'Cheese Pizza', 'Classic Recipe Pizzas', 'New Recipe Pizzas',\n",
       "       'Skinny Pizzas', 'Gluten-Free Pizzas', 'Express Favorites'],\n",
       "      dtype=object)"
      ]
     },
     "execution_count": 7,
     "metadata": {},
     "output_type": "execute_result"
    }
   ],
   "source": [
    "pizza_data[\"Type\"].unique() #Label Encoding"
   ]
  },
  {
   "cell_type": "code",
   "execution_count": 8,
   "id": "20bcd648",
   "metadata": {},
   "outputs": [
    {
     "data": {
      "text/plain": [
       "array(['Small (10\")', 'Medium (12\")', 'Large (14\")', 'X-Large (16\")',\n",
       "       'Medium', 'Large', 'Personal', 'Small', 'Mini', 'Jumbo',\n",
       "       'X Large (16\")'], dtype=object)"
      ]
     },
     "execution_count": 8,
     "metadata": {},
     "output_type": "execute_result"
    }
   ],
   "source": [
    "pizza_data[\"Size\"].unique() #Label Encoding"
   ]
  },
  {
   "cell_type": "code",
   "execution_count": 9,
   "id": "84971fd6",
   "metadata": {},
   "outputs": [
    {
     "data": {
      "text/plain": [
       "array(['$5.99 ', '$7.99 ', '$9.99 ', '$11.99 ', '$8.99 ', '$13.99 ',\n",
       "       '$15.99 ', '$17.99 ', '$14.99 ', '$15.49 ', '$8.49 ', '$10.49 ',\n",
       "       '$4.29 ', '$12.49 ', '$4.79 ', '$17.49 ', '$13.49 ', '$16.49 ',\n",
       "       '$5.29 ', '$18.49 ', '$4.99 ', '$10.99 ', '$12.99 ', '$18.99 ',\n",
       "       '$19.99 ', '$22.24 ', '$23.99 ', '$27.99 ', '$26.23 ', '$16.99 ',\n",
       "       '$21.99 ', '$22.49 ', '$25.99 ', '$26.49 ', '$29.99 ', '$20.99 ',\n",
       "       '$24.99 ', '$28.99 ', '$12.69 ', '$15.34 ', '$15.24 ', '$18.69 ',\n",
       "       '$18.74 ', '$12.70 ', '$16.20 ', '$19.95 ', '$23.85 ', '$9.30 ',\n",
       "       '$11.60 ', '$14.45 ', '$17.35 ', '$19.20 ', '$11.80 ', '$14.95 ',\n",
       "       '$18.65 ', '$22.30 '], dtype=object)"
      ]
     },
     "execution_count": 9,
     "metadata": {},
     "output_type": "execute_result"
    }
   ],
   "source": [
    "pizza_data[\"Price\"].unique() #Label Encoding"
   ]
  },
  {
   "cell_type": "markdown",
   "id": "bc1347fa",
   "metadata": {},
   "source": [
    "# One Hot Encoding For \"Companny\" feature "
   ]
  },
  {
   "cell_type": "code",
   "execution_count": 10,
   "id": "36cb351e",
   "metadata": {},
   "outputs": [
    {
     "data": {
      "text/html": [
       "<div>\n",
       "<style scoped>\n",
       "    .dataframe tbody tr th:only-of-type {\n",
       "        vertical-align: middle;\n",
       "    }\n",
       "\n",
       "    .dataframe tbody tr th {\n",
       "        vertical-align: top;\n",
       "    }\n",
       "\n",
       "    .dataframe thead th {\n",
       "        text-align: right;\n",
       "    }\n",
       "</style>\n",
       "<table border=\"1\" class=\"dataframe\">\n",
       "  <thead>\n",
       "    <tr style=\"text-align: right;\">\n",
       "      <th></th>\n",
       "      <th>Pizza Name</th>\n",
       "      <th>Type</th>\n",
       "      <th>Size</th>\n",
       "      <th>Price</th>\n",
       "      <th>Godfather's Pizza</th>\n",
       "      <th>IMO's Pizza</th>\n",
       "      <th>Pizza Hut</th>\n",
       "    </tr>\n",
       "  </thead>\n",
       "  <tbody>\n",
       "    <tr>\n",
       "      <th>0</th>\n",
       "      <td>Hand Tossed</td>\n",
       "      <td>Cheeses Pizza</td>\n",
       "      <td>Small (10\")</td>\n",
       "      <td>$5.99</td>\n",
       "      <td>0</td>\n",
       "      <td>0</td>\n",
       "      <td>0</td>\n",
       "    </tr>\n",
       "    <tr>\n",
       "      <th>1</th>\n",
       "      <td>Hand Tossed</td>\n",
       "      <td>Cheeses Pizza</td>\n",
       "      <td>Medium (12\")</td>\n",
       "      <td>$7.99</td>\n",
       "      <td>0</td>\n",
       "      <td>0</td>\n",
       "      <td>0</td>\n",
       "    </tr>\n",
       "    <tr>\n",
       "      <th>2</th>\n",
       "      <td>Hand Tossed</td>\n",
       "      <td>Cheeses Pizza</td>\n",
       "      <td>Large (14\")</td>\n",
       "      <td>$9.99</td>\n",
       "      <td>0</td>\n",
       "      <td>0</td>\n",
       "      <td>0</td>\n",
       "    </tr>\n",
       "    <tr>\n",
       "      <th>3</th>\n",
       "      <td>Handmade Pan</td>\n",
       "      <td>Cheeses Pizza</td>\n",
       "      <td>Medium (12\")</td>\n",
       "      <td>$7.99</td>\n",
       "      <td>0</td>\n",
       "      <td>0</td>\n",
       "      <td>0</td>\n",
       "    </tr>\n",
       "    <tr>\n",
       "      <th>4</th>\n",
       "      <td>Crunchy Thin Crust</td>\n",
       "      <td>Cheeses Pizza</td>\n",
       "      <td>Small (10\")</td>\n",
       "      <td>$5.99</td>\n",
       "      <td>0</td>\n",
       "      <td>0</td>\n",
       "      <td>0</td>\n",
       "    </tr>\n",
       "  </tbody>\n",
       "</table>\n",
       "</div>"
      ],
      "text/plain": [
       "           Pizza Name           Type          Size   Price  Godfather's Pizza  \\\n",
       "0         Hand Tossed  Cheeses Pizza   Small (10\")  $5.99                   0   \n",
       "1         Hand Tossed  Cheeses Pizza  Medium (12\")  $7.99                   0   \n",
       "2         Hand Tossed  Cheeses Pizza   Large (14\")  $9.99                   0   \n",
       "3        Handmade Pan  Cheeses Pizza  Medium (12\")  $7.99                   0   \n",
       "4  Crunchy Thin Crust  Cheeses Pizza   Small (10\")  $5.99                   0   \n",
       "\n",
       "   IMO's Pizza  Pizza Hut  \n",
       "0            0          0  \n",
       "1            0          0  \n",
       "2            0          0  \n",
       "3            0          0  \n",
       "4            0          0  "
      ]
     },
     "execution_count": 10,
     "metadata": {},
     "output_type": "execute_result"
    }
   ],
   "source": [
    "dummy = pd.get_dummies(pizza_data[\"Company\"],drop_first = True)\n",
    "\n",
    "pizza_data = pd.concat([pizza_data,dummy],axis=1).drop(pizza_data[[\"Company\"]],axis=1)\n",
    "\n",
    "pizza_data.head()"
   ]
  },
  {
   "cell_type": "markdown",
   "id": "4e54fb32",
   "metadata": {},
   "source": [
    "# Label Encoding for the rest of the features"
   ]
  },
  {
   "cell_type": "code",
   "execution_count": 11,
   "id": "bc052de5",
   "metadata": {},
   "outputs": [],
   "source": [
    "from sklearn.preprocessing import LabelEncoder\n",
    "from pandas.core.dtypes.common import is_numeric_dtype\n",
    "label_encoding = LabelEncoder()"
   ]
  },
  {
   "cell_type": "code",
   "execution_count": 12,
   "id": "790c8d87",
   "metadata": {},
   "outputs": [],
   "source": [
    "columns = [\"Pizza Name\",\"Type\",\"Size\",\"Price\"]\n",
    "for column in columns:\n",
    "    if is_numeric_dtype(pizza_data[column]):\n",
    "        continue\n",
    "    else:\n",
    "        pizza_data[column] = label_encoding.fit_transform(pizza_data[column])"
   ]
  },
  {
   "cell_type": "code",
   "execution_count": 13,
   "id": "0f9b8e1e",
   "metadata": {},
   "outputs": [
    {
     "data": {
      "text/html": [
       "<div>\n",
       "<style scoped>\n",
       "    .dataframe tbody tr th:only-of-type {\n",
       "        vertical-align: middle;\n",
       "    }\n",
       "\n",
       "    .dataframe tbody tr th {\n",
       "        vertical-align: top;\n",
       "    }\n",
       "\n",
       "    .dataframe thead th {\n",
       "        text-align: right;\n",
       "    }\n",
       "</style>\n",
       "<table border=\"1\" class=\"dataframe\">\n",
       "  <thead>\n",
       "    <tr style=\"text-align: right;\">\n",
       "      <th></th>\n",
       "      <th>Pizza Name</th>\n",
       "      <th>Type</th>\n",
       "      <th>Size</th>\n",
       "      <th>Price</th>\n",
       "      <th>Godfather's Pizza</th>\n",
       "      <th>IMO's Pizza</th>\n",
       "      <th>Pizza Hut</th>\n",
       "    </tr>\n",
       "  </thead>\n",
       "  <tbody>\n",
       "    <tr>\n",
       "      <th>0</th>\n",
       "      <td>96</td>\n",
       "      <td>1</td>\n",
       "      <td>8</td>\n",
       "      <td>50</td>\n",
       "      <td>0</td>\n",
       "      <td>0</td>\n",
       "      <td>0</td>\n",
       "    </tr>\n",
       "    <tr>\n",
       "      <th>1</th>\n",
       "      <td>96</td>\n",
       "      <td>1</td>\n",
       "      <td>4</td>\n",
       "      <td>51</td>\n",
       "      <td>0</td>\n",
       "      <td>0</td>\n",
       "      <td>0</td>\n",
       "    </tr>\n",
       "    <tr>\n",
       "      <th>2</th>\n",
       "      <td>96</td>\n",
       "      <td>1</td>\n",
       "      <td>2</td>\n",
       "      <td>55</td>\n",
       "      <td>0</td>\n",
       "      <td>0</td>\n",
       "      <td>0</td>\n",
       "    </tr>\n",
       "    <tr>\n",
       "      <th>3</th>\n",
       "      <td>98</td>\n",
       "      <td>1</td>\n",
       "      <td>4</td>\n",
       "      <td>51</td>\n",
       "      <td>0</td>\n",
       "      <td>0</td>\n",
       "      <td>0</td>\n",
       "    </tr>\n",
       "    <tr>\n",
       "      <th>4</th>\n",
       "      <td>75</td>\n",
       "      <td>1</td>\n",
       "      <td>8</td>\n",
       "      <td>50</td>\n",
       "      <td>0</td>\n",
       "      <td>0</td>\n",
       "      <td>0</td>\n",
       "    </tr>\n",
       "  </tbody>\n",
       "</table>\n",
       "</div>"
      ],
      "text/plain": [
       "   Pizza Name  Type  Size  Price  Godfather's Pizza  IMO's Pizza  Pizza Hut\n",
       "0          96     1     8     50                  0            0          0\n",
       "1          96     1     4     51                  0            0          0\n",
       "2          96     1     2     55                  0            0          0\n",
       "3          98     1     4     51                  0            0          0\n",
       "4          75     1     8     50                  0            0          0"
      ]
     },
     "execution_count": 13,
     "metadata": {},
     "output_type": "execute_result"
    }
   ],
   "source": [
    "pizza_data.head()"
   ]
  },
  {
   "cell_type": "code",
   "execution_count": null,
   "id": "bc2cdcf0",
   "metadata": {},
   "outputs": [],
   "source": []
  }
 ],
 "metadata": {
  "kernelspec": {
   "display_name": "Python 3 (ipykernel)",
   "language": "python",
   "name": "python3"
  },
  "language_info": {
   "codemirror_mode": {
    "name": "ipython",
    "version": 3
   },
   "file_extension": ".py",
   "mimetype": "text/x-python",
   "name": "python",
   "nbconvert_exporter": "python",
   "pygments_lexer": "ipython3",
   "version": "3.9.7"
  }
 },
 "nbformat": 4,
 "nbformat_minor": 5
}
